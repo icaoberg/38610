{
  "nbformat": 4,
  "nbformat_minor": 0,
  "metadata": {
    "colab": {
      "provenance": [],
      "include_colab_link": true
    },
    "kernelspec": {
      "name": "python3",
      "display_name": "Python 3"
    },
    "language_info": {
      "name": "python"
    }
  },
  "cells": [
    {
      "cell_type": "markdown",
      "metadata": {
        "id": "view-in-github",
        "colab_type": "text"
      },
      "source": [
        "<a href=\"https://colab.research.google.com/github/icaoberg/38610/blob/main/Lecture%202%20-%20Stack.ipynb\" target=\"_parent\"><img src=\"https://colab.research.google.com/assets/colab-badge.svg\" alt=\"Open In Colab\"/></a>"
      ]
    },
    {
      "cell_type": "markdown",
      "source": [
        "![logo.png](data:image/png;base64,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)\n",
        "\n",
        "# Stack\n",
        "Naive implementation of a [Stack](https://en.wikipedia.org/wiki/Stack_(abstract_data_type)).\n",
        "\n",
        "## Method\n",
        "* `push( element )`\n",
        "* `pop()`\n",
        "* `peek()`\n",
        "* `isEmpty()`\n",
        "* `size()`"
      ],
      "metadata": {
        "id": "oB0wHoArLPhg"
      }
    },
    {
      "cell_type": "code",
      "execution_count": 1,
      "metadata": {
        "id": "k_rYL-x1LM9G"
      },
      "outputs": [],
      "source": [
        "# DO NOT MODIFY THIS CODE BLOCK\n",
        "# https://github.com/CMU-MS-DAS-Modern-Programming-Mini/python-example-stack/blob/master/Stack.py\n",
        "\n",
        "class Stack:\n",
        "    def __init__(self):\n",
        "        '''\n",
        "        Default constructor\n",
        "        '''\n",
        "\n",
        "        self.elements = []\n",
        "\n",
        "    def push(self, element):\n",
        "        '''\n",
        "        Push element to the stack\n",
        "        :param element:\n",
        "        '''\n",
        "\n",
        "        self.elements.insert(0,element)\n",
        "\n",
        "    def pop(self):\n",
        "        '''\n",
        "        Pop top element of the stack\n",
        "        :return: element\n",
        "        '''\n",
        "\n",
        "        if not self.isEmpty():\n",
        "            return self.elements.pop(0)\n",
        "        else:\n",
        "            return None\n",
        "\n",
        "    def peek(self):\n",
        "        '''\n",
        "        Peek element at the top of the stack\n",
        "        :return: element\n",
        "        '''\n",
        "\n",
        "        if not self.isEmpty():\n",
        "            return self.elements[0]\n",
        "        else:\n",
        "            return None\n",
        "\n",
        "    def isEmpty(self):\n",
        "        '''\n",
        "        Check if stack is empty\n",
        "        :return: true if empty, false otherwise\n",
        "        '''\n",
        "\n",
        "        if len(self.elements) == 0:\n",
        "            return True\n",
        "        else:\n",
        "            return False\n",
        "\n",
        "    def size(self):\n",
        "        '''\n",
        "        Size of the stack\n",
        "        :return: number of elements in the stack\n",
        "        '''\n",
        "        return len(self.elements)\n",
        "\n",
        "    def tolist(self):\n",
        "        '''\n",
        "        Returns stack as a list\n",
        "        :return: list\n",
        "        '''\n",
        "\n",
        "        return self.elements"
      ]
    },
    {
      "cell_type": "markdown",
      "source": [
        "# Simple Tests"
      ],
      "metadata": {
        "id": "Is_dHDUFjxcH"
      }
    },
    {
      "cell_type": "code",
      "source": [
        "# https://realpython.com/python-assert-statement/\n",
        "\n",
        "s = Stack()\n",
        "assert s.size() == 0\n",
        "s.push(1)\n",
        "assert s.size() == 1\n",
        "\n",
        "for i in range(100):\n",
        "  s.push(i)\n",
        "\n",
        "assert s.size() == 101"
      ],
      "metadata": {
        "id": "y7fatra8WhsZ"
      },
      "execution_count": 8,
      "outputs": []
    }
  ]
}